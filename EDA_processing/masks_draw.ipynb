{
 "cells": [
  {
   "cell_type": "code",
   "execution_count": null,
   "id": "1943e6ac",
   "metadata": {},
   "outputs": [],
   "source": [
    "import json\n",
    "with open('TrainData/train/Annotations/iSAID_train.json', 'r', encoding='Utf-8') as json_data:\n",
    "    tmd=json.load(json_data)#аннотации к изображениям"
   ]
  },
  {
   "cell_type": "code",
   "execution_count": null,
   "id": "45cd977a",
   "metadata": {},
   "outputs": [],
   "source": [
    "import numpy as np\n",
    "from PIL import Image\n",
    "from PIL import ImageDraw, ImageColor\n",
    "from tqdm import tqdm\n",
    "import os\n",
    "\n",
    "def process(md, cat, im_path):\n",
    "    '''Функция для рисования масок объектов категории cat рандомными цветами по аннотациям md.\n",
    "    img_path - путь к спутниковым снимкам dota'''\n",
    "    out_id=1\n",
    "    os.mkdir(f'processing/masks/{cat}')\n",
    "    cat_id = [x for x in md['categories'] if x['name'] == cat][0]['id']\n",
    "    anns = [ann for ann in md['annotations'] if ann['category_id'] == cat_id]\n",
    "    im_segs = {}\n",
    "    for ann in anns:\n",
    "        im_segs[ann['image_id']] = []\n",
    "    for ann in anns:\n",
    "        im_segs[ann['image_id']] += ann['segmentation']\n",
    "    for im_id in tqdm(im_segs):\n",
    "        im_fn = [x for x in md['images'] if x['id'] == im_id][0]['file_name']\n",
    "        im = Image.open(f'{im_path}/{im_fn}')\n",
    "        imm = Image.new('RGB', im.size)\n",
    "        dr = ImageDraw.Draw(imm)\n",
    "        for seg in im_segs[im_id]:\n",
    "            color =f'rgb{tuple(np.random.choice(range(256), size=3))}'\n",
    "            dr.polygon(seg, fill=color,outline=color)\n",
    "        imm.save(f'processing/masks/{cat}/%04d.png' % out_id)\n",
    "        out_id = out_id + 1"
   ]
  },
  {
   "cell_type": "code",
   "execution_count": null,
   "id": "0bedd63d",
   "metadata": {},
   "outputs": [],
   "source": [
    "process(tmd, 'storage_tank', 'dota/train')"
   ]
  }
 ],
 "metadata": {
  "kernelspec": {
   "display_name": "Python 3 (ipykernel)",
   "language": "python",
   "name": "python3"
  },
  "language_info": {
   "codemirror_mode": {
    "name": "ipython",
    "version": 3
   },
   "file_extension": ".py",
   "mimetype": "text/x-python",
   "name": "python",
   "nbconvert_exporter": "python",
   "pygments_lexer": "ipython3",
   "version": "3.9.13"
  },
  "nbTranslate": {
   "displayLangs": [
    "rus",
    "en"
   ],
   "hotkey": "alt-t",
   "langInMainMenu": true,
   "sourceLang": "en",
   "targetLang": "rus",
   "useGoogleTranslate": true
  }
 },
 "nbformat": 4,
 "nbformat_minor": 5
}
